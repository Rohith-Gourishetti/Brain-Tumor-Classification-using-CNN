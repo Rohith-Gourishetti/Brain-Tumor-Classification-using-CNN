{
 "cells": [
  {
   "cell_type": "code",
   "execution_count": null,
   "id": "72969234",
   "metadata": {},
   "outputs": [
    {
     "name": "stderr",
     "output_type": "stream",
     "text": [
      "C:\\Users\\SRINIVASAREDDY\\anaconda3\\lib\\site-packages\\scipy\\__init__.py:155: UserWarning: A NumPy version >=1.18.5 and <1.25.0 is required for this version of SciPy (detected version 1.26.0\n",
      "  warnings.warn(f\"A NumPy version >={np_minversion} and <{np_maxversion}\"\n"
     ]
    },
    {
     "name": "stdout",
     "output_type": "stream",
     "text": [
      " * Serving Flask app \"__main__\" (lazy loading)\n",
      " * Environment: production\n",
      "\u001b[31m   WARNING: This is a development server. Do not use it in a production deployment.\u001b[0m\n",
      "\u001b[2m   Use a production WSGI server instead.\u001b[0m\n",
      " * Debug mode: off\n"
     ]
    },
    {
     "name": "stderr",
     "output_type": "stream",
     "text": [
      " * Running on http://127.0.0.1:5000/ (Press CTRL+C to quit)\n",
      "127.0.0.1 - - [15/Oct/2023 17:24:51] \"GET / HTTP/1.1\" 200 -\n",
      "[2023-10-15 17:24:51,452] ERROR in app: Exception on /favicon.ico [GET]\n",
      "Traceback (most recent call last):\n",
      "  File \"C:\\Users\\SRINIVASAREDDY\\anaconda3\\lib\\site-packages\\flask\\app.py\", line 2447, in wsgi_app\n",
      "    response = self.full_dispatch_request()\n",
      "  File \"C:\\Users\\SRINIVASAREDDY\\anaconda3\\lib\\site-packages\\flask\\app.py\", line 1952, in full_dispatch_request\n",
      "    rv = self.handle_user_exception(e)\n",
      "  File \"C:\\Users\\SRINIVASAREDDY\\anaconda3\\lib\\site-packages\\flask\\app.py\", line 1821, in handle_user_exception\n",
      "    reraise(exc_type, exc_value, tb)\n",
      "  File \"C:\\Users\\SRINIVASAREDDY\\anaconda3\\lib\\site-packages\\flask\\_compat.py\", line 39, in reraise\n",
      "    raise value\n",
      "  File \"C:\\Users\\SRINIVASAREDDY\\anaconda3\\lib\\site-packages\\flask\\app.py\", line 1950, in full_dispatch_request\n",
      "    rv = self.dispatch_request()\n",
      "  File \"C:\\Users\\SRINIVASAREDDY\\anaconda3\\lib\\site-packages\\flask\\app.py\", line 1936, in dispatch_request\n",
      "    return self.view_functions[rule.endpoint](**req.view_args)\n",
      "  File \"C:\\Users\\SRINIVASAREDDY\\AppData\\Local\\Temp\\ipykernel_27088\\3473801986.py\", line 17, in serve_static\n",
      "    return send_from_directory(os.path.join(root_dir, 'templates'), filename)\n",
      "NameError: name 'send_from_directory' is not defined\n",
      "127.0.0.1 - - [15/Oct/2023 17:24:51] \"GET /favicon.ico HTTP/1.1\" 500 -\n"
     ]
    }
   ],
   "source": [
    "from flask import Flask, request, render_template\n",
    "from PIL import Image\n",
    "import numpy as np\n",
    "import tensorflow as tf\n",
    "import io\n",
    "import os\n",
    "import base64\n",
    "x= ['glioma_tumor','no_tumor','meningioma_tumor','pituitary_tumor']\n",
    "app = Flask(__name__)\n",
    "model = tf.keras.models.load_model('braintumor')\n",
    "@app.route('/',methods=['GET'])\n",
    "def home():\n",
    "    return render_template('home.html')\n",
    "@app.route('/<path:filename>')\n",
    "def serve_static(filename):\n",
    "    root_dir = os.path.dirname(os.getcwd())\n",
    "    return send_from_directory(os.path.join(root_dir, 'templates'), filename)\n",
    "@app.route('/predict', methods=['GET', 'POST'])\n",
    "def upload():\n",
    "    result_display = False \n",
    "    predict = \"\"  \n",
    "    img_data = None \n",
    "    a=False\n",
    "    b=False\n",
    "    c=False\n",
    "    if request.method == 'POST':\n",
    "        file = request.files['image']\n",
    "        if file:\n",
    "            img = Image.open(file.stream).convert('RGB')\n",
    "            img = img.resize((150, 150))\n",
    "            img_array = np.array(img)\n",
    "            img_array = np.expand_dims(img_array, axis=0)\n",
    "\n",
    "            prediction = model.predict(img_array)\n",
    "            class_index = np.argmax(prediction)\n",
    "            result_display = True\n",
    "            if class_index==0:\n",
    "                a=True\n",
    "            if class_index==2:\n",
    "                b=True\n",
    "            if class_index==3:\n",
    "                c=True\n",
    "            if class_index == 1:\n",
    "                predict='The Person has no brain tumor'\n",
    "            else:\n",
    "                predict = 'The person has brain tumor'\n",
    "            img_byte_array = io.BytesIO()\n",
    "            img.save(img_byte_array, format='PNG')\n",
    "            img_data = base64.b64encode(img_byte_array.getvalue()).decode('utf-8')\n",
    "\n",
    "    return render_template('index.html', result_display=result_display, predict=predict, img_data=img_data,a=a,b=b,c=c) \n",
    "\n",
    "if __name__ == \"__main__\":\n",
    "    app.run()"
   ]
  },
  {
   "cell_type": "code",
   "execution_count": null,
   "id": "a31dab25",
   "metadata": {},
   "outputs": [],
   "source": []
  }
 ],
 "metadata": {
  "kernelspec": {
   "display_name": "Python 3 (ipykernel)",
   "language": "python",
   "name": "python3"
  },
  "language_info": {
   "codemirror_mode": {
    "name": "ipython",
    "version": 3
   },
   "file_extension": ".py",
   "mimetype": "text/x-python",
   "name": "python",
   "nbconvert_exporter": "python",
   "pygments_lexer": "ipython3",
   "version": "3.9.13"
  }
 },
 "nbformat": 4,
 "nbformat_minor": 5
}
